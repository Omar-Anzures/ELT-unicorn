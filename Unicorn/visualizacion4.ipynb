{
 "cells": [
  {
   "cell_type": "code",
   "execution_count": 12,
   "metadata": {},
   "outputs": [],
   "source": [
    "#librerias necesarias para el ejercicio\n",
    "import numpy as np\n",
    "import pandas as pd\n",
    "import seaborn as sns\n",
    "import calendar"
   ]
  },
  {
   "cell_type": "code",
   "execution_count": 13,
   "metadata": {},
   "outputs": [],
   "source": [
    "#importacion del dataset para graficar los resultados\n",
    "data = pd.read_csv('archivo.csv')\n",
    "datos = pd.DataFrame(data)"
   ]
  },
  {
   "cell_type": "code",
   "execution_count": null,
   "metadata": {},
   "outputs": [],
   "source": [
    "datos.Date_Joined = pd.DatetimeIndex(datos['Date_Joined']).year"
   ]
  },
  {
   "cell_type": "code",
   "execution_count": null,
   "metadata": {},
   "outputs": [],
   "source": [
    "sns.set(rc = {'figure.figsize':(18,8)})\n",
    "data_final = datos.Date_Joined.value_counts()\n",
    "\n",
    "di = dict(sorted(data_final.items()))\n",
    "\n",
    "y = list(di.values())\n",
    "x = list(di.keys())\n",
    "\n",
    "ax = sns.lineplot(x,y,marker=\"o\")\n",
    "\n",
    "for x, y in zip(x, y):\n",
    "    ax.text(x = x, \n",
    "    y = y-1, \n",
    "    s = '{:.0f}'.format(y)) \n",
    " \n",
    "ax.set_title('Recuento de company por año',fontdict = { 'fontsize': 20})\n",
    "ax.set_ylabel('Recuento de company',labelpad = 25, size = 14)\n",
    "ax.set_xlabel(\"Año\",labelpad = 25,size = 14)\n",
    "\n",
    "ax.spines['right'].set_visible(False)\n",
    "ax.spines['top'].set_visible(False)\n",
    "ax.spines['bottom'].set_visible(False)\n",
    "ax.spines['left'].set_visible(False)"
   ]
  },
  {
   "cell_type": "code",
   "execution_count": null,
   "metadata": {},
   "outputs": [],
   "source": [
    "datos.Date_Joined = pd.DatetimeIndex(datos['Date_Joined']).month\n",
    "datos['Date_Joined'] = datos['Date_Joined'].apply(lambda x: calendar.month_abbr[x])\n",
    "datos"
   ]
  }
 ],
 "metadata": {
  "kernelspec": {
   "display_name": "Python 3.10.5 64-bit",
   "language": "python",
   "name": "python3"
  },
  "language_info": {
   "codemirror_mode": {
    "name": "ipython",
    "version": 3
   },
   "file_extension": ".py",
   "mimetype": "text/x-python",
   "name": "python",
   "nbconvert_exporter": "python",
   "pygments_lexer": "ipython3",
   "version": "3.10.5"
  },
  "orig_nbformat": 4,
  "vscode": {
   "interpreter": {
    "hash": "dd9f87a29d2aa6978dd0bf5504b490cec73ae07d70e80488022efecbed51ab6b"
   }
  }
 },
 "nbformat": 4,
 "nbformat_minor": 2
}

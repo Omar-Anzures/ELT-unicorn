{
 "cells": [
  {
   "cell_type": "code",
   "execution_count": 1,
   "metadata": {},
   "outputs": [],
   "source": [
    "#librerias que se van a utilizar \n",
    "import pandas as pd \n",
    "import numpy as np\n",
    "import seaborn as sns\n",
    "import matplotlib.pyplot as plt"
   ]
  },
  {
   "cell_type": "code",
   "execution_count": 2,
   "metadata": {},
   "outputs": [],
   "source": [
    "#dataset limpio\n",
    "data = pd.read_csv('archivo.csv')\n",
    "datos = pd.DataFrame(data)"
   ]
  },
  {
   "cell_type": "code",
   "execution_count": 4,
   "metadata": {},
   "outputs": [],
   "source": [
    "#Abreviacion de los nombres de los valores del campo Industry\n",
    "datos.Industry.replace(to_replace='Artificial intelligence', value='Artificial',inplace=True)\n",
    "datos.Industry.replace(to_replace='Internet software & services', value='Internet',inplace=True)\n",
    "datos.Industry.replace(to_replace='E-commerce & direct-to-consumer', value='E-commerce',inplace=True)"
   ]
  },
  {
   "cell_type": "markdown",
   "metadata": {},
   "source": [
    "<center>\n",
    "<img src = \"https://external-content.duckduckgo.com/iu/?u=https%3A%2F%2Fehikioya.com%2Fwp-content%2Fuploads%2F2020%2F02%2Flogo2_compressed.png&f=1&nofb=1\"\n",
    "height=\"100px\" width=\"540px\" align=\"middle\" />\n",
    "</center>"
   ]
  },
  {
   "cell_type": "code",
   "execution_count": null,
   "metadata": {},
   "outputs": [],
   "source": [
    "#tamaño y fuente de la letra\n",
    "fuente = {'family': 'monospace',\n",
    "        'size': 14,\n",
    "        'weight':'bold'\n",
    "        }\n",
    "#color de las barras\n",
    "color = ['#d42484', '#92d4ed', '#041699', '#6c8c64', '#b4d1da']\n",
    "\n",
    "#se agrega el tamaño de la figura\n",
    "plt.rc('figure',figsize = (10,8))\n",
    "\n",
    "#tamaño y fuente de la letra\n",
    "plt.rc('font',**fuente)\n",
    "\n",
    "#se define la figura\n",
    "figura =plt.figure()  \n",
    "ax = figura.add_subplot(1,1,1)\n",
    "\n",
    "datos_b = datos.Industry.value_counts().head()\n",
    "d = dict(datos_b)\n",
    "\n",
    "ax.bar(d.keys(),d.values(),align = 'center',color=color, alpha = 0.8)\n",
    "\n",
    "#valores de cada barra\n",
    "for x,y in enumerate(d.values()):\n",
    "    ax.text(x,y+5,'%s' %round(y,1),ha='center')\n",
    "    \n",
    "#Etiquetas x,y y titulo\n",
    "ax.set_title('Industrias con mas unicornios',fontdict = fuente)\n",
    "ax.set_ylabel('Recuento de Company',fontdict = fuente,labelpad = 25)\n",
    "ax.set_xlabel(\"Industry\",fontdict = fuente,labelpad = 25)\n",
    "\n",
    "#Eliminar los cuatro bordes:\n",
    "ax.spines['right'].set_visible(False)\n",
    "ax.spines['top'].set_visible(False)\n",
    "ax.spines['bottom'].set_visible(False)\n",
    "ax.spines['left'].set_visible(False)"
   ]
  },
  {
   "cell_type": "markdown",
   "metadata": {},
   "source": [
    "<center>\n",
    "<img src = \"https://external-content.duckduckgo.com/iu/?u=https%3A%2F%2Fjehyunlee.github.io%2F2020%2F09%2F09%2FPython-DS-31-seaborn_upgrade%2F31-seaborn_upgrade_1.png&f=1&nofb=1\"\n",
    "height=\"100px\" width=\"540px\" align=\"middle\" />\n",
    "</center>"
   ]
  },
  {
   "cell_type": "code",
   "execution_count": 9,
   "metadata": {},
   "outputs": [
    {
     "data": {
      "text/plain": [
       "Fintech       246\n",
       "Internet      224\n",
       "E-commerce    107\n",
       "Health         93\n",
       "Artificial     87\n",
       "Name: Industry, dtype: int64"
      ]
     },
     "execution_count": 9,
     "metadata": {},
     "output_type": "execute_result"
    }
   ],
   "source": [
    "sns.set_style(\"white\")\n",
    "sns.color_palette(\"husl\", 8)\n",
    "\n",
    "color = ['#d42484', '#92d4ed', '#041699', '#6c8c64', '#b4d1da']\n",
    "\n",
    "d = datos.Industry.value_counts().head()\n",
    "\n",
    "ax = sns.barplot(d.index,d.values,palette = color)\n",
    "\n",
    "for p in ax.patches:\n",
    "    ax.annotate(f\"{p.get_height()}\", \n",
    "                   (p.get_x() + p.get_width() / 2., p.get_height()), \n",
    "                   ha = 'center', va = 'center', \n",
    "                   xytext = (0, 9), \n",
    "                   textcoords = 'offset points')\n",
    "\n",
    "ax.set_title('Industrias con mas unicornios')\n",
    "ax.set_ylabel('Recuento de Company',labelpad = 25)\n",
    "ax.set_xlabel(\"Industry\",labelpad = 25)\n",
    "\n",
    "#Eliminar los cuatro bordes:\n",
    "ax.spines['right'].set_visible(False)\n",
    "ax.spines['top'].set_visible(False)\n",
    "ax.spines['bottom'].set_visible(False)\n",
    "ax.spines['left'].set_visible(False)"
   ]
  }
 ],
 "metadata": {
  "kernelspec": {
   "display_name": "Python 3.10.5 64-bit",
   "language": "python",
   "name": "python3"
  },
  "language_info": {
   "codemirror_mode": {
    "name": "ipython",
    "version": 3
   },
   "file_extension": ".py",
   "mimetype": "text/x-python",
   "name": "python",
   "nbconvert_exporter": "python",
   "pygments_lexer": "ipython3",
   "version": "3.10.5"
  },
  "orig_nbformat": 4,
  "vscode": {
   "interpreter": {
    "hash": "dd9f87a29d2aa6978dd0bf5504b490cec73ae07d70e80488022efecbed51ab6b"
   }
  }
 },
 "nbformat": 4,
 "nbformat_minor": 2
}
